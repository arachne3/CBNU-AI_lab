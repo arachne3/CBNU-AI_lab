{
 "cells": [
  {
   "cell_type": "code",
   "execution_count": null,
   "id": "a8803d63",
   "metadata": {},
   "outputs": [],
   "source": [
    "# Check if PyTorch is available and import it\n",
    "try:\n",
    "    import torch\n",
    "    print(\"✓ PyTorch is successfully imported!\")\n",
    "    print(f\"PyTorch version: {torch.__version__}\")\n",
    "    \n",
    "    # Check if CUDA is available\n",
    "    if torch.cuda.is_available():\n",
    "        print(f\"✓ CUDA is available! Device count: {torch.cuda.device_count()}\")\n",
    "        print(f\"Current CUDA device: {torch.cuda.get_device_name(0)}\")\n",
    "    else:\n",
    "        print(\"CUDA is not available. Using CPU.\")\n",
    "    \n",
    "    # Create a simple tensor to test basic functionality\n",
    "    test_tensor = torch.tensor([1, 2, 3, 4, 5], device= 'cuda')\n",
    "    print(f\"✓ Test tensor created: {test_tensor}\")\n",
    "    print(f\"Tensor shape: {test_tensor.shape}\")\n",
    "    print(f\"Tensor device: {test_tensor.device}\")\n",
    "    \n",
    "    # Basic tensor operation\n",
    "    squared_tensor = test_tensor ** 2\n",
    "    print(f\"✓ Basic operation test (squaring): {squared_tensor}\")\n",
    "    \n",
    "    print(\"\\n🎉 PyTorch is working correctly!\")"
   ]
  },
  {
   "cell_type": "code",
   "execution_count": null,
   "id": "7286972f",
   "metadata": {},
   "outputs": [],
   "source": [
    "except ImportError as e:\n",
    "    print(\"❌ PyTorch is not installed or not available\")\n",
    "    print(f\"Error details: {e}\")\n",
    "    print(\"Please install PyTorch using: pip install torch\")"
   ]
  },
  {
   "cell_type": "code",
   "execution_count": null,
   "id": "8f327686",
   "metadata": {
    "lines_to_next_cell": 2
   },
   "outputs": [],
   "source": [
    "except Exception as e:\n",
    "    print(f\"❌ An error occurred while testing PyTorch: {e}\")"
   ]
  }
 ],
 "metadata": {
  "jupytext": {
   "cell_metadata_filter": "-all",
   "main_language": "python",
   "notebook_metadata_filter": "-all"
  }
 },
 "nbformat": 4,
 "nbformat_minor": 5
}
