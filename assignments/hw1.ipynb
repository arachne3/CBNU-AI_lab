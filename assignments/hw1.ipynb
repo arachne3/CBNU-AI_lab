{
 "cells": [
  {
   "cell_type": "code",
   "execution_count": 1,
   "id": "a8803d63",
   "metadata": {},
   "outputs": [
    {
     "name": "stdout",
     "output_type": "stream",
     "text": [
      "✓ PyTorch import 성공!\n",
      "PyTorch version: 2.8.0+cu126\n",
      "✓ CUDA 사용 가능 — GPU 개수: 1\n",
      "현재 GPU: NVIDIA GeForce RTX 4050 Laptop GPU\n",
      "✓ 텐서 생성: tensor([1, 2, 3, 4, 5], device='cuda:0')\n",
      "Tensor shape: torch.Size([5])\n",
      "Tensor device: cuda:0\n",
      "✓ 제곱 연산 결과: tensor([ 1,  4,  9, 16, 25], device='cuda:0')\n",
      "\n",
      "🎉 PyTorch가 정상 동작합니다!\n"
     ]
    }
   ],
   "source": [
    "# PyTorch 동작/환경 점검\n",
    "try:\n",
    "    import torch\n",
    "    print(\"✓ PyTorch import 성공!\")\n",
    "    print(f\"PyTorch version: {torch.__version__}\")\n",
    "\n",
    "    # 디바이스 선택 (CUDA 가능 시 GPU, 아니면 CPU)\n",
    "    if torch.cuda.is_available():\n",
    "        device = torch.device(\"cuda\")\n",
    "        print(f\"✓ CUDA 사용 가능 — GPU 개수: {torch.cuda.device_count()}\")\n",
    "        print(f\"현재 GPU: {torch.cuda.get_device_name(0)}\")\n",
    "    else:\n",
    "        device = torch.device(\"cpu\")\n",
    "        print(\"CUDA 미지원 — CPU로 진행합니다.\")\n",
    "\n",
    "    # 텐서 생성 및 기본 연산 테스트\n",
    "    test_tensor = torch.tensor([1, 2, 3, 4, 5], device=device)\n",
    "    print(f\"✓ 텐서 생성: {test_tensor}\")\n",
    "    print(f\"Tensor shape: {test_tensor.shape}\")\n",
    "    print(f\"Tensor device: {test_tensor.device}\")\n",
    "\n",
    "    squared_tensor = test_tensor ** 2\n",
    "    print(f\"✓ 제곱 연산 결과: {squared_tensor}\")\n",
    "\n",
    "    print(\"\\n🎉 PyTorch가 정상 동작합니다!\")\n",
    "\n",
    "except ImportError as e:\n",
    "    print(\"❌ PyTorch가 설치되어 있지 않거나 불러올 수 없습니다.\")\n",
    "    print(f\"오류: {e}\")\n",
    "    print(\"설치: pip install torch --index-url https://download.pytorch.org/whl/cpu\")\n",
    "except Exception as e:\n",
    "    print(f\"❌ PyTorch 점검 중 오류 발생: {e}\")"
   ]
  },
  {
   "cell_type": "code",
   "execution_count": null,
   "id": "7286972f",
   "metadata": {},
   "outputs": [],
   "source": []
  },
  {
   "cell_type": "code",
   "execution_count": null,
   "id": "8f327686",
   "metadata": {
    "lines_to_next_cell": 2
   },
   "outputs": [],
   "source": []
  }
 ],
 "metadata": {
  "jupytext": {
   "cell_metadata_filter": "-all",
   "main_language": "python",
   "notebook_metadata_filter": "-all"
  },
  "kernelspec": {
   "display_name": "Python 3",
   "language": "python",
   "name": "python3"
  },
  "language_info": {
   "codemirror_mode": {
    "name": "ipython",
    "version": 3
   },
   "file_extension": ".py",
   "mimetype": "text/x-python",
   "name": "python",
   "nbconvert_exporter": "python",
   "pygments_lexer": "ipython3",
   "version": "3.13.7"
  }
 },
 "nbformat": 4,
 "nbformat_minor": 5
}
